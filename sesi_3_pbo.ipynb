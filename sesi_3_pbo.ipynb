{
  "nbformat": 4,
  "nbformat_minor": 0,
  "metadata": {
    "colab": {
      "provenance": [],
      "authorship_tag": "ABX9TyOdIFiA7zNcok9EwoF781ov",
      "include_colab_link": true
    },
    "kernelspec": {
      "name": "python3",
      "display_name": "Python 3"
    },
    "language_info": {
      "name": "python"
    }
  },
  "cells": [
    {
      "cell_type": "markdown",
      "metadata": {
        "id": "view-in-github",
        "colab_type": "text"
      },
      "source": [
        "<a href=\"https://colab.research.google.com/github/Nurulmirdawati/pbo1/blob/main/sesi_3_pbo.ipynb\" target=\"_parent\"><img src=\"https://colab.research.google.com/assets/colab-badge.svg\" alt=\"Open In Colab\"/></a>"
      ]
    },
    {
      "cell_type": "code",
      "execution_count": 1,
      "metadata": {
        "colab": {
          "base_uri": "https://localhost:8080/"
        },
        "id": "JBSlWC7maoid",
        "outputId": "0a158f90-38e7-4890-8a14-cda6846df41e"
      },
      "outputs": [
        {
          "output_type": "stream",
          "name": "stdout",
          "text": [
            "Perulangan ke-0\n",
            "Perulangan ke-1\n",
            "Perulangan ke-2\n",
            "Perulangan ke-3\n",
            "Perulangan ke-4\n",
            "Perulangan ke-5\n",
            "Perulangan ke-6\n",
            "Perulangan ke-7\n",
            "Perulangan ke-8\n",
            "Perulangan ke-9\n",
            "5\n",
            "6\n",
            "7\n",
            "8\n",
            "9\n"
          ]
        }
      ],
      "source": [
        "# Deklarasi variabel contoh dan 10 itu sebagai tanda 10 kali perulangan\n",
        "contoh = 10\n",
        "\n",
        "# Variabel i berfungsi untuk menampung indeks,\n",
        "# dan fungsi range() berfungsi untuk membuat list dari 0-10.\n",
        "for i in range(contoh):\n",
        "    print (\"Perulangan ke-\" +str(i))\n",
        "\n",
        "\n",
        "# Menampilkan range dari kumpulan deret tertentu\n",
        "# range(5,10) akan membuat deret angka mulai dari 5, 6, 7, 8, dan 9.\n",
        "\n",
        "for i in range(5,10):\n",
        "  print(i)"
      ]
    },
    {
      "cell_type": "code",
      "source": [
        "# Deklarasi variabel contoh2 dengan tipe list\n",
        "contoh2 = ['saya','suka','minum','kopi', 'gayo']\n",
        "\n",
        "for isi in contoh2:\n",
        "    print (isi)"
      ],
      "metadata": {
        "colab": {
          "base_uri": "https://localhost:8080/"
        },
        "id": "h4G0JYjYbcor",
        "outputId": "cbbd2805-b2dd-47e0-c9be-e23db96d9742"
      },
      "execution_count": 2,
      "outputs": [
        {
          "output_type": "stream",
          "name": "stdout",
          "text": [
            "saya\n",
            "suka\n",
            "minum\n",
            "kopi\n",
            "gayo\n"
          ]
        }
      ]
    },
    {
      "cell_type": "code",
      "source": [
        "# Deklarasi variabel hit\n",
        "hit = 0\n",
        "# Membuat kondisi\n",
        "while (hit < 5):\n",
        "    print(hit, \"kurang dari 5\")\n",
        "    hit = hit + 1\n",
        "else:\n",
        "# Menampilkan output salam jika kondisi sudah terpenuhi\n",
        "    print(\"Salammmm\")"
      ],
      "metadata": {
        "colab": {
          "base_uri": "https://localhost:8080/"
        },
        "id": "P_XVMuNOblpD",
        "outputId": "f3664292-8beb-45bd-8a4e-5987e868fd03"
      },
      "execution_count": 3,
      "outputs": [
        {
          "output_type": "stream",
          "name": "stdout",
          "text": [
            "0 kurang dari 5\n",
            "1 kurang dari 5\n",
            "2 kurang dari 5\n",
            "3 kurang dari 5\n",
            "4 kurang dari 5\n",
            "Salammmm\n"
          ]
        }
      ]
    },
    {
      "cell_type": "code",
      "source": [
        "##\n",
        "# Program menghitung Faktor Persekutuan Terbesa\n",
        "#\n",
        "\n",
        "# Membaca dua bilangan positif dari user\n",
        "n = int(input(\"Masukkan bilangan positif:\"))\n",
        "m = int(input(\"Masukkan bilangan positif:\"))\n",
        "\n",
        "# Inisialisasi variabel untuk nilai terkecil dari n dan m\n",
        "d = min(n, m)\n",
        "\n",
        "# Gunakan loop while untuk mencari FPT\n",
        "while n % d != 0 or m % d != 0:\n",
        "  d = d - 1\n",
        "\n",
        "# Menampilkan hasil\n",
        "print(\"Faktor persekutuan terbesar dari\", n, \"dan\", m, \" adalah\", d)"
      ],
      "metadata": {
        "colab": {
          "base_uri": "https://localhost:8080/"
        },
        "id": "TdJMj83Cbr6T",
        "outputId": "60c0a1f8-14fa-4980-a1fb-c8017eea64d6"
      },
      "execution_count": 4,
      "outputs": [
        {
          "output_type": "stream",
          "name": "stdout",
          "text": [
            "Masukkan bilangan positif:4\n",
            "Masukkan bilangan positif:8\n",
            "Faktor persekutuan terbesar dari 4 dan 8  adalah 4\n"
          ]
        }
      ]
    },
    {
      "cell_type": "code",
      "source": [
        "##\n",
        "# Menentukan nilai maksimum 100 bilangan bulat, menghitung berapa kali\n",
        "# perulangan\n",
        "\n",
        "from random import randrange\n",
        "\n",
        "BIL_ITEMS = 100\n",
        "\n",
        "# Generate the first number and menampilkan nya\n",
        "maks_nilai = randrange(1, BIL_ITEMS + 1)\n",
        "print(maks_nilai)\n",
        "\n",
        "# Menghitung berapa kali perubahan\n",
        "bil_update = 0\n",
        "\n",
        "# Untuk setiap bilangan\n",
        "for i in range(1, BIL_ITEMS):\n",
        "  # Generate bilangan acak\n",
        "  current = randrange(1, BIL_ITEMS + 1)\n",
        "\n",
        "  # Kondisi jika ditemukan bilangan terbesar\n",
        "  if current > maks_nilai:\n",
        "    # Update nilai maksimum dan hitung perubahan\n",
        "    maks_nilai = current\n",
        "    bil_update = bil_update + 1\n",
        "    # Tampilkan bilangan jika masih ada proses update\n",
        "    print(current, \"<== Update\")\n",
        "  else:\n",
        "    #Tampilkan bilangan\n",
        "    print(current)\n",
        "\n",
        "# Tampilkan Hasil Terakhir\n",
        "print(\" Nilai maksimum yang ditemukan adalah\", maks_nilai)\n",
        "print(\"Nilai maksimum yang di-update\", bil_update, \"kali\")\n",
        ""
      ],
      "metadata": {
        "colab": {
          "base_uri": "https://localhost:8080/"
        },
        "id": "_OPCZnLhbzxn",
        "outputId": "d6659cd5-5b42-4bf1-9e5e-16a504835669"
      },
      "execution_count": 5,
      "outputs": [
        {
          "output_type": "stream",
          "name": "stdout",
          "text": [
            "38\n",
            "96 <== Update\n",
            "65\n",
            "8\n",
            "3\n",
            "89\n",
            "71\n",
            "23\n",
            "38\n",
            "44\n",
            "32\n",
            "54\n",
            "5\n",
            "86\n",
            "24\n",
            "3\n",
            "42\n",
            "47\n",
            "7\n",
            "16\n",
            "64\n",
            "97 <== Update\n",
            "23\n",
            "77\n",
            "62\n",
            "26\n",
            "75\n",
            "99 <== Update\n",
            "86\n",
            "11\n",
            "8\n",
            "35\n",
            "37\n",
            "12\n",
            "77\n",
            "1\n",
            "43\n",
            "7\n",
            "86\n",
            "74\n",
            "93\n",
            "21\n",
            "26\n",
            "78\n",
            "21\n",
            "83\n",
            "49\n",
            "45\n",
            "89\n",
            "46\n",
            "55\n",
            "58\n",
            "42\n",
            "51\n",
            "81\n",
            "47\n",
            "86\n",
            "31\n",
            "90\n",
            "77\n",
            "100 <== Update\n",
            "55\n",
            "43\n",
            "72\n",
            "38\n",
            "76\n",
            "65\n",
            "65\n",
            "22\n",
            "55\n",
            "83\n",
            "8\n",
            "76\n",
            "24\n",
            "52\n",
            "23\n",
            "61\n",
            "69\n",
            "95\n",
            "94\n",
            "63\n",
            "12\n",
            "83\n",
            "68\n",
            "7\n",
            "14\n",
            "29\n",
            "87\n",
            "49\n",
            "41\n",
            "25\n",
            "13\n",
            "13\n",
            "58\n",
            "46\n",
            "84\n",
            "8\n",
            "13\n",
            "72\n",
            "67\n",
            " Nilai maksimum yang ditemukan adalah 100\n",
            "Nilai maksimum yang di-update 4 kali\n"
          ]
        }
      ]
    }
  ]
}